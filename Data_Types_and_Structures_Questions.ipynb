{
  "nbformat": 4,
  "nbformat_minor": 0,
  "metadata": {
    "colab": {
      "provenance": []
    },
    "kernelspec": {
      "name": "python3",
      "display_name": "Python 3"
    },
    "language_info": {
      "name": "python"
    }
  },
  "cells": [
    {
      "cell_type": "markdown",
      "source": [
        "#Data Types and Structures Questions"
      ],
      "metadata": {
        "id": "wpNDJ7Zfmv_n"
      }
    },
    {
      "cell_type": "markdown",
      "source": [
        "1.What are data structures, and why are they important?\n",
        "- Data structures are specialized formats for organising,storing and accessing the collection of data.They provide efficient ways to manage information based on its characteristics and intended uses.\n",
        "\n",
        "Why are they important :-\n",
        "\n",
        "- Choosing the right data structure significantely impacts the efficiency and performance of your program.\n",
        "- Well choosen data structure can simplifying data manupulation (adding,removing,modifying elements) , optimize searching and sorting operation and conserve memory usage."
      ],
      "metadata": {
        "id": "I2gYpi0Zm9K4"
      }
    },
    {
      "cell_type": "markdown",
      "source": [
        "2.Explain the difference between mutable and immutable data types with examples?\n",
        "\n",
        " - Python data are categorized into two form\n",
        "\n",
        "(1) Mutable data type  :- A mutabale data type is one whose value can be changed\n",
        "Example :- list , set and dictionarise\n",
        "\n",
        "(2) Immutable data type  :- Immutable data types is one whose value cannot be changed.\n",
        "Example :- tuple and string"
      ],
      "metadata": {
        "id": "JOCYNSqDtZlD"
      }
    },
    {
      "cell_type": "markdown",
      "source": [
        "3.What are the main differences between lists and tuples in Python?\n",
        "- Mutability :- List are mutable, meaning they can be modified but tuple are immutable meaning they cannot be modified.\n",
        "- Memmory efficiency :- Tuples are more memory efficient than list.\n",
        "- Syntax :- tuples uses round bracets or paranthesis () and list uses square brackets [].\n",
        "- Speed :- tuples are faster than list when looking up for values.\n",
        "- Error proneness :- list is more error prone than tuple operations\n",
        "- Built in method :- list are more built in methods than tuple.\n",
        "- use case :- List are better for adding, removing records frequently while tuple are better for representing fixed collection."
      ],
      "metadata": {
        "id": "Z7GF5wVAxu-c"
      }
    },
    {
      "cell_type": "markdown",
      "source": [
        "4.Describe how dictionaries store data?\n",
        "- Dictionaries are used to store data value in key : value pairs and can be referred to by using key name. Dictionaries items are ordered , changable and not allow duplicate."
      ],
      "metadata": {
        "id": "6eQPENddw8QT"
      }
    },
    {
      "cell_type": "markdown",
      "source": [
        "5.Why might you use a set instead of a list in Python?\n",
        "- Set can be used to store unique values in order to avoid duplications of elements present in the set.\n",
        "- Elements in a set are stored in a sorted fashion which makes it efficient.\n",
        "- Set are dynamic, so there is no error of overflowing of the set.\n",
        "- Sets provide fast and efficient operations for checking if an element is present in the set or not."
      ],
      "metadata": {
        "id": "7k9gDU4ffJHM"
      }
    },
    {
      "cell_type": "markdown",
      "source": [
        "6.What is a string in Python, and how is it different from a list?\n",
        "- Strings are immutable, meaning they cannot be changed once created, while lists are mutable and can be modified as needed."
      ],
      "metadata": {
        "id": "ASSKopS-2cNb"
      }
    },
    {
      "cell_type": "markdown",
      "source": [
        "7.How do tuples ensure data integrity in Python?\n",
        "\n",
        "- Tuples in Python play a crucial role in ensuring data integrity due to their immutability. This means that once a tuple is created, its elements cannot be changed, added, or removed. This characteristic provides several benefits:\n",
        "- Data Consistency: Immutability guarantees that the data within a tuple remains constant throughout its lifecycle. This prevents accidental or intentional modifications that could compromise the integrity of the data.\n",
        "- Security: Since tuples cannot be altered, they provide a level of security by protecting data from unauthorized changes. This is particularly important when dealing with sensitive information.\n",
        "- Hashing and Indexing: Tuples can be used as keys in dictionaries because they are immutable and hashable. This allows for efficient data retrieval and indexing.\n",
        "- Readability: The immutability of tuples can improve code readability by making it clear that certain data should not be modified. This can help prevent unexpected behavior and make code easier to maintain.\n",
        "By utilizing tuples when appropriate, Python developers can enhance the reliability and security of their code and ensure that data remains accurate and consistent."
      ],
      "metadata": {
        "id": "HFvvPQCQ2-lP"
      }
    },
    {
      "cell_type": "markdown",
      "source": [
        "8.What is a hash table, and how does it relate to dictionaries in Python?\n",
        "- A hash table is a data structure that stores key-value pairs in an array format, with each data value having a unique index value. The hash value of the key determines the correct bucket to store the data\n",
        "- In Python, the Dictionary data type is the implementation of hash tables. The keys in a Python dictionary are hashable, meaning they are generated by a hash function that produces a unique result for each value"
      ],
      "metadata": {
        "id": "tcvK8B1g8PxH"
      }
    },
    {
      "cell_type": "markdown",
      "source": [
        "9.Can lists contain different data types in Python?\n",
        "- list can also contain a mix of Python types including strings, floats, and booleans."
      ],
      "metadata": {
        "id": "Jei1bvlB3a87"
      }
    },
    {
      "cell_type": "markdown",
      "source": [
        "10.Explain why strings are immutable in python?\n",
        "- strings are immutable because they cannot be changed after they are created."
      ],
      "metadata": {
        "id": "dbqbbjpm5PjE"
      }
    },
    {
      "cell_type": "markdown",
      "source": [
        "11.What advantages do dictionaries offer over lists for certain tasks?\n",
        "\n",
        "- Dictionaries offer several advantages over lists for certain tasks, including:\n",
        "- Quick lookups: Dictionaries are ideal for quick lookups, such as mapping usernames to user data.\n",
        "-Easier to read: Dictionaries make code easier to read when generating key:value pairs.\n",
        "-More flexible data storage: Dictionaries store data as key-value pairs, which offers more flexibility than lists.\n",
        "-Faster lookup operations: Dictionaries are faster than lists for lookup operations."
      ],
      "metadata": {
        "id": "20TD6WGy6h2C"
      }
    },
    {
      "cell_type": "markdown",
      "source": [
        "12. Describe a scenario where using a tuple would be preferable over a list?\n",
        "- Use a tuple if you need an immutable collection where the elements won't change after creation. Tuples are generally faster and more memory-efficient than lists, making them better for fixed collections, especially as dictionary keys or when iteration speed is crucial."
      ],
      "metadata": {
        "id": "gwPBBQ8e7w_5"
      }
    },
    {
      "cell_type": "markdown",
      "source": [
        "13.How do sets handle duplicate values in Python?\n",
        "- Items of a set in python are immutable (unchangeable), do not duplicate values, and unordered. Thus, items in a set do not appear in a stipulated manner, i.e., they can appear in a different order every time it is used. Due to this, set items cannot be referred to by key or index."
      ],
      "metadata": {
        "id": "HWb3Pejy8eQ3"
      }
    },
    {
      "cell_type": "markdown",
      "source": [
        "14.How does the “in” keyword work differently for lists and dictionaries?\n",
        "\n",
        "\n",
        "The in keyword behaves differently when used with lists and dictionaries in Python:\n",
        "\n",
        "\n",
        "Key Differences:\n",
        " - Lists: Check for the presence of a specific value within the list.\n",
        " - Dictionaries: Check for the presence of a specific key within the dictionary."
      ],
      "metadata": {
        "id": "OYf6sGVp9U7j"
      }
    },
    {
      "cell_type": "markdown",
      "source": [
        "15.Can you modify the elements of a tuple? Explain why or why not?\n",
        "- No, we cannot modify the elements of a tuple because tuples are \"immutable\" in most programming languages, meaning once created, their elements cannot be changed, added, or removed; this is a key distinction between tuples and lists, which are mutable and allow for element modification"
      ],
      "metadata": {
        "id": "CknmL4_J-6nu"
      }
    },
    {
      "cell_type": "markdown",
      "source": [
        "16.What is a nested dictionary, and give an example of its use case?\n",
        "- A nested dictionary is a collection of dictionaries within a single dictionary, and is a powerful tool for organizing data with multiple layers. Here are some examples of use cases for nested dictionaries:\n",
        "-\n",
        "Employee records: Organize employees by department, with each employee's details in a nested dictionary.\n",
        "-Inventory systems: Track product categories, subcategories, and individual product details"
      ],
      "metadata": {
        "id": "Jzi_huOL_bI-"
      }
    },
    {
      "cell_type": "markdown",
      "source": [
        "17.Describe the time complexity of accessing elements in a dictionary?\n",
        "- The time complexity of accessing an element in a Python dictionary is O(1) on average\n",
        "- This means that the time it takes to retrieve an element from a dictionary is constant and doesn't depend on the size of the dictionary"
      ],
      "metadata": {
        "id": "WYVDm2EtIXVE"
      }
    },
    {
      "cell_type": "markdown",
      "source": [
        "18.In what situations are lists preferred over dictionaries?\n",
        "- Lists perform faster for ordered operations like sorting, while dictionaries perform faster for lookup operations."
      ],
      "metadata": {
        "id": "6wuGV_lmJI5m"
      }
    },
    {
      "cell_type": "markdown",
      "source": [
        "19.Why are dictionaries considered unordered, and how does that affect data retrieval?\n",
        "\n",
        "- A dictionary is termed an unordered collection of objects because dictionaries do not maintain any inherent order of the items based on when they were added.dictionaries did not preserve insertion order at all. This meant that when you accessed or printed the items, the order could vary, as dictionaries were optimized for fast lookups rather than maintaining order."
      ],
      "metadata": {
        "id": "7GexuN0xJvbA"
      }
    },
    {
      "cell_type": "markdown",
      "source": [
        "20.Explain the difference between a list and a dictionary in terms of data retrieval.?\n",
        "-The key difference between lists and dictionaries in terms of data retrieval lies in how you access the elements within them:\n",
        "- Lists:\n",
        "   Ordered Collection: Lists are ordered collections of items. This means the position of each element within the list is fixed.Accessed by Index: You access elements in a list using their numerical index (starting from 0).\n",
        "     For example, to access the first item in a list named my_list, you use my_list[0].\n",
        "- Dictionaries:\n",
        "   Unordered Collection: Dictionaries store data in key-value pairs.\n",
        "   Accessed by Keys: You access values in a dictionary using their associated keys.\n",
        "For example, if a dictionary named my_dict has a key \"name\" with the value \"Alice\", you access the value using my_dict[\"name\"].\n",
        "In Summary:\n",
        " * Lists: Retrieve data based on its position (index).\n",
        " * Dictionaries: Retrieve data based on a unique key associated with the value."
      ],
      "metadata": {
        "id": "hO6Wnpa0LURd"
      }
    },
    {
      "cell_type": "markdown",
      "source": [
        "#Practical Questions"
      ],
      "metadata": {
        "id": "BZOKPf5yNj3B"
      }
    },
    {
      "cell_type": "code",
      "source": [
        "#1.Write a code to create a string with your name and print it\n",
        "name=\"biju deka\"\n",
        "print(name)"
      ],
      "metadata": {
        "colab": {
          "base_uri": "https://localhost:8080/"
        },
        "id": "bdKu-hgZN-oP",
        "outputId": "54aef13e-6891-493e-a129-ac2ab4d01e18"
      },
      "execution_count": null,
      "outputs": [
        {
          "output_type": "stream",
          "name": "stdout",
          "text": [
            "biju deka\n"
          ]
        }
      ]
    },
    {
      "cell_type": "code",
      "source": [
        "#2.Write a code to find the length of the string \"Hello World\"\n",
        "word = \"hellow world\"\n",
        "len(word)"
      ],
      "metadata": {
        "colab": {
          "base_uri": "https://localhost:8080/"
        },
        "id": "Mv9dWL4MPtv8",
        "outputId": "0711102e-7d58-40fb-dc36-6dcf64a865f5"
      },
      "execution_count": null,
      "outputs": [
        {
          "output_type": "execute_result",
          "data": {
            "text/plain": [
              "12"
            ]
          },
          "metadata": {},
          "execution_count": 5
        }
      ]
    },
    {
      "cell_type": "code",
      "source": [
        "#3.Write a code to slice the first 3 characters from the string \"Python Programming\"?\n",
        "string1=\"python programming\"\n",
        "string1=string1[:3]\n",
        "print(string1)"
      ],
      "metadata": {
        "colab": {
          "base_uri": "https://localhost:8080/"
        },
        "id": "Kderae0vQFov",
        "outputId": "eb78809c-db08-47d6-ba5f-7a210eea4172"
      },
      "execution_count": null,
      "outputs": [
        {
          "output_type": "stream",
          "name": "stdout",
          "text": [
            "pyt\n"
          ]
        }
      ]
    },
    {
      "cell_type": "code",
      "source": [
        "#4.Write a code to convert the string \"hello\" to uppercase\n",
        "upper_case = \"hello\"\n",
        "upper_case = upper_case.upper()\n",
        "print(upper_case)"
      ],
      "metadata": {
        "colab": {
          "base_uri": "https://localhost:8080/"
        },
        "id": "THf7fNt9VBTu",
        "outputId": "bfa89815-3aee-43c5-9c03-d8a935eb4070"
      },
      "execution_count": null,
      "outputs": [
        {
          "output_type": "stream",
          "name": "stdout",
          "text": [
            "HELLO\n"
          ]
        }
      ]
    },
    {
      "cell_type": "code",
      "source": [
        "#5.Write a code to replace the word \"apple\" with \"orange\" in the string \"I like apple\"?\n",
        "string = \" i like apple \"\n",
        "string = string.replace(\"apple\",\"orange\")\n",
        "print(string)"
      ],
      "metadata": {
        "colab": {
          "base_uri": "https://localhost:8080/"
        },
        "id": "d8fbnmlpcuiq",
        "outputId": "e83afbf1-93db-467d-e780-43b37e57b7c0"
      },
      "execution_count": null,
      "outputs": [
        {
          "output_type": "stream",
          "name": "stdout",
          "text": [
            " i like orange \n"
          ]
        }
      ]
    },
    {
      "cell_type": "code",
      "source": [
        "#6.Write a code to create a list with numbers 1 to 5 and print it\n",
        "list1 = list(range(1,6))\n",
        "print(list1)"
      ],
      "metadata": {
        "colab": {
          "base_uri": "https://localhost:8080/"
        },
        "id": "A4rZ_eDSeYdL",
        "outputId": "0e63b4d4-4b3f-4140-a03b-e11749e06303"
      },
      "execution_count": null,
      "outputs": [
        {
          "output_type": "stream",
          "name": "stdout",
          "text": [
            "[1, 2, 3, 4, 5]\n"
          ]
        }
      ]
    },
    {
      "cell_type": "code",
      "source": [
        "#7.Write a code to append the number 10 to the list [1, 2, 3, 4]?\n",
        "list1=[1,2,3,4]\n",
        "list1.append(10)\n",
        "print(list1)"
      ],
      "metadata": {
        "colab": {
          "base_uri": "https://localhost:8080/"
        },
        "id": "bL971pa3gBRf",
        "outputId": "4d213f4d-5a62-4980-fad8-3b493198bdd9"
      },
      "execution_count": null,
      "outputs": [
        {
          "output_type": "stream",
          "name": "stdout",
          "text": [
            "[1, 2, 3, 4, 10]\n"
          ]
        }
      ]
    },
    {
      "cell_type": "code",
      "source": [
        "#8.Write a code to remove the number 3 from the list [1, 2, 3, 4, 5]?\n",
        "list = [1,2,3,4,5]\n",
        "list.pop(2)\n",
        "print(list)"
      ],
      "metadata": {
        "colab": {
          "base_uri": "https://localhost:8080/"
        },
        "id": "DaQn4s-_hQEW",
        "outputId": "cbcbb3dc-3556-4b82-949e-ba5b79481b1d"
      },
      "execution_count": null,
      "outputs": [
        {
          "output_type": "stream",
          "name": "stdout",
          "text": [
            "[1, 2, 4, 5]\n"
          ]
        }
      ]
    },
    {
      "cell_type": "code",
      "source": [
        "#9.Write a code to access the second element in the list ['a', 'b', 'c', 'd']\n",
        "\n",
        "list = ['a','b','c','d']\n",
        "print(list[1])"
      ],
      "metadata": {
        "colab": {
          "base_uri": "https://localhost:8080/"
        },
        "id": "scNy3CWtiaAa",
        "outputId": "4d7d4f01-9fd9-4d32-fbc1-0de76fc3fdab"
      },
      "execution_count": null,
      "outputs": [
        {
          "output_type": "stream",
          "name": "stdout",
          "text": [
            "b\n"
          ]
        }
      ]
    },
    {
      "cell_type": "code",
      "source": [
        "#10.Write a code to reverse the list [10, 20, 30, 40, 50].\n",
        "list = [10,20,30,40,50]\n",
        "reversed = list[::-1]\n",
        "print(reversed)"
      ],
      "metadata": {
        "colab": {
          "base_uri": "https://localhost:8080/"
        },
        "id": "nED2ISuZjmUC",
        "outputId": "70411751-f0e4-4101-f3ca-ff586a6803e7"
      },
      "execution_count": null,
      "outputs": [
        {
          "output_type": "stream",
          "name": "stdout",
          "text": [
            "[50, 40, 30, 20, 10]\n"
          ]
        }
      ]
    },
    {
      "cell_type": "code",
      "source": [
        "#11.Write a code to create a tuple with the elements 10, 20, 30 and print it.?\n",
        "tuple1 = (10,20,30)\n",
        "print(tuple1)"
      ],
      "metadata": {
        "id": "w-8sXHp4lW6c",
        "colab": {
          "base_uri": "https://localhost:8080/"
        },
        "outputId": "b5406ca2-2327-4b31-f3de-7d2aa734d8bb"
      },
      "execution_count": null,
      "outputs": [
        {
          "output_type": "stream",
          "name": "stdout",
          "text": [
            "(10, 20, 30)\n"
          ]
        }
      ]
    },
    {
      "cell_type": "code",
      "source": [
        "#12.Write a code to access the first element of the tuple ('apple', 'banana', 'cherry').?\n",
        "\n",
        "tuple = ('apple','banana','cherry')\n",
        "print(tuple[0])"
      ],
      "metadata": {
        "colab": {
          "base_uri": "https://localhost:8080/"
        },
        "id": "PPSkUW_twbw-",
        "outputId": "594d6677-5e97-4ef3-9b49-537d9879ba80"
      },
      "execution_count": null,
      "outputs": [
        {
          "output_type": "stream",
          "name": "stdout",
          "text": [
            "apple\n"
          ]
        }
      ]
    },
    {
      "cell_type": "code",
      "source": [
        "#13.Write a code to count how many times the number 2 appears in the tuple (1, 2, 3, 2, 4, 2).?\n",
        "\n",
        "tuple1 = (1,2,3,2,4,2)\n",
        "count=tuple1.count(2)\n",
        "print(count)"
      ],
      "metadata": {
        "colab": {
          "base_uri": "https://localhost:8080/"
        },
        "id": "CFArqKvYxVCF",
        "outputId": "4203b41f-7387-4ba7-fbb2-cc1531ff42e1"
      },
      "execution_count": null,
      "outputs": [
        {
          "output_type": "stream",
          "name": "stdout",
          "text": [
            "3\n"
          ]
        }
      ]
    },
    {
      "cell_type": "code",
      "source": [
        "#14. Write a code to find the index of the element \"cat\" in the tuple ('dog', 'cat', 'rabbit').\n",
        "\n",
        "tuple=('dog','cat','rabbit')\n",
        "index_count=tuple.index('cat')\n",
        "print(index_count)"
      ],
      "metadata": {
        "colab": {
          "base_uri": "https://localhost:8080/"
        },
        "id": "KxIKyHsXzlLO",
        "outputId": "fdd22c57-c4e3-48a6-d2a2-b4d2eaa3d574"
      },
      "execution_count": null,
      "outputs": [
        {
          "output_type": "stream",
          "name": "stdout",
          "text": [
            "1\n"
          ]
        }
      ]
    },
    {
      "cell_type": "code",
      "source": [
        "#15. Write a code to check if the element \"banana\" is in the tuple ('apple', 'orange', 'banana').\n",
        "tuple = ('apple','orange','banana')\n",
        "if 'banana' in tuple:\n",
        "    print('banana in tuple')\n",
        "else:\n",
        "    print('banana is not in tuple')"
      ],
      "metadata": {
        "colab": {
          "base_uri": "https://localhost:8080/"
        },
        "id": "F40yLsf92iHn",
        "outputId": "af146935-6043-496f-958f-472714de4746"
      },
      "execution_count": null,
      "outputs": [
        {
          "output_type": "stream",
          "name": "stdout",
          "text": [
            "banana in tuple\n"
          ]
        }
      ]
    },
    {
      "cell_type": "code",
      "source": [
        "#16. Write a code to create a set with the elements 1, 2, 3, 4, 5 and print it.\n",
        "\n",
        "set={1,2,3,4,5}\n",
        "print(set)"
      ],
      "metadata": {
        "colab": {
          "base_uri": "https://localhost:8080/"
        },
        "id": "zM4HjjgZ32rd",
        "outputId": "75eaf13c-b83c-414f-f965-36da82eb15b5"
      },
      "execution_count": null,
      "outputs": [
        {
          "output_type": "stream",
          "name": "stdout",
          "text": [
            "{1, 2, 3, 4, 5}\n"
          ]
        }
      ]
    },
    {
      "cell_type": "code",
      "source": [
        "#17. Write a code to add the element 6 to the set {1, 2, 3, 4}\n",
        "set = {1,2,3,4}\n",
        "set.add(6)\n",
        "print(set)"
      ],
      "metadata": {
        "colab": {
          "base_uri": "https://localhost:8080/"
        },
        "id": "4AUjXtAN4m5Z",
        "outputId": "bb5d951c-5be6-4dc6-b567-2850d59b4b0b"
      },
      "execution_count": null,
      "outputs": [
        {
          "output_type": "stream",
          "name": "stdout",
          "text": [
            "{1, 2, 3, 4, 6}\n"
          ]
        }
      ]
    },
    {
      "cell_type": "code",
      "source": [
        "#18. Write a code to create a tuple with the elements 10, 20, 30 and print it.\n",
        "tuple1 = (10,20,30)\n",
        "print(tuple1)"
      ],
      "metadata": {
        "colab": {
          "base_uri": "https://localhost:8080/"
        },
        "id": "ECoqVvzP5V6_",
        "outputId": "bf721e6e-5791-4fa6-bb42-de5879677641"
      },
      "execution_count": null,
      "outputs": [
        {
          "output_type": "stream",
          "name": "stdout",
          "text": [
            "(10, 20, 30)\n"
          ]
        }
      ]
    },
    {
      "cell_type": "code",
      "source": [
        "#19. Write a code to access the first element of the tuple ('apple', 'banana', 'cherry').\n",
        "tuple = ('apple','banana','cherry')\n",
        "print(tuple[0])"
      ],
      "metadata": {
        "colab": {
          "base_uri": "https://localhost:8080/"
        },
        "id": "A4i6nID345gd",
        "outputId": "ac040473-b4be-4203-e9e9-79477ae4796f"
      },
      "execution_count": null,
      "outputs": [
        {
          "output_type": "stream",
          "name": "stdout",
          "text": [
            "apple\n"
          ]
        }
      ]
    },
    {
      "cell_type": "code",
      "source": [
        "#20.Write a code to count how many times the number 2 appears in the tuple (1, 2, 3, 2, 4, 2).\n",
        "tuple1 = (1,2,3,2,4,2)\n",
        "count=tuple1.count(2)\n",
        "print(count)"
      ],
      "metadata": {
        "colab": {
          "base_uri": "https://localhost:8080/"
        },
        "id": "1a1s-XY93obM",
        "outputId": "c1fa8c5d-95a1-4a75-b4fe-8a5e8a12bf21"
      },
      "execution_count": null,
      "outputs": [
        {
          "output_type": "stream",
          "name": "stdout",
          "text": [
            "3\n"
          ]
        }
      ]
    },
    {
      "cell_type": "code",
      "source": [
        "#21.Write a code to find the index of the element \"cat\" in the tuple ('dog', 'cat', 'rabbit').\n",
        "tuple=('dog','cat','rabbit')\n",
        "index_count=tuple.index('cat')\n",
        "print(index_count)"
      ],
      "metadata": {
        "colab": {
          "base_uri": "https://localhost:8080/"
        },
        "id": "gwS10tnC6w_Y",
        "outputId": "6c6c041b-2671-4cb0-c726-0df2f2bbc92a"
      },
      "execution_count": null,
      "outputs": [
        {
          "output_type": "stream",
          "name": "stdout",
          "text": [
            "1\n"
          ]
        }
      ]
    },
    {
      "cell_type": "code",
      "source": [
        "#22. Write a code to check if the element \"banana\" is in the tuple ('apple', 'orange', 'banana').\n",
        "tuple = ('apple','orange','banana')\n",
        "if 'banana' in tuple:\n",
        "    print('banana in tuple')\n",
        "else:\n",
        "    print('banana is not in tuple')"
      ],
      "metadata": {
        "colab": {
          "base_uri": "https://localhost:8080/"
        },
        "id": "XeTd1HSp7KkU",
        "outputId": "86dc6eb9-3e9f-4183-8a45-2112d1a48e76"
      },
      "execution_count": null,
      "outputs": [
        {
          "output_type": "stream",
          "name": "stdout",
          "text": [
            "banana in tuple\n"
          ]
        }
      ]
    },
    {
      "cell_type": "code",
      "source": [
        "#23. Write a code to create a set with the elements 1, 2, 3, 4, 5 and print it.\n",
        "set={1,2,3,4,5}\n",
        "print(set)"
      ],
      "metadata": {
        "colab": {
          "base_uri": "https://localhost:8080/"
        },
        "id": "9rc2h2gI7mDJ",
        "outputId": "402d43e5-a9a7-4079-c80b-5b39355616be"
      },
      "execution_count": null,
      "outputs": [
        {
          "output_type": "stream",
          "name": "stdout",
          "text": [
            "{1, 2, 3, 4, 5}\n"
          ]
        }
      ]
    },
    {
      "cell_type": "code",
      "source": [
        "#24 Write a code to add the element 6 to the set {1, 2, 3, 4}\n",
        "set = {1,2,3,4}\n",
        "set.add(6)\n",
        "print(set)"
      ],
      "metadata": {
        "colab": {
          "base_uri": "https://localhost:8080/"
        },
        "id": "4ntPi41l7zGw",
        "outputId": "dcb82fed-6910-43fe-94ff-5b8540d9ecda"
      },
      "execution_count": null,
      "outputs": [
        {
          "output_type": "stream",
          "name": "stdout",
          "text": [
            "{1, 2, 3, 4, 6}\n"
          ]
        }
      ]
    }
  ]
}